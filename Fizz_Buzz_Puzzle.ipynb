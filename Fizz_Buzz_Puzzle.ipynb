{
  "nbformat": 4,
  "nbformat_minor": 0,
  "metadata": {
    "colab": {
      "name": "Fizz_Buzz_Puzzle.ipynb",
      "provenance": [],
      "collapsed_sections": [],
      "authorship_tag": "ABX9TyMBjqvr5xwQoCeWXr3q2Dkg",
      "include_colab_link": true
    },
    "kernelspec": {
      "name": "python3",
      "display_name": "Python 3"
    },
    "language_info": {
      "name": "python"
    }
  },
  "cells": [
    {
      "cell_type": "markdown",
      "metadata": {
        "id": "view-in-github",
        "colab_type": "text"
      },
      "source": [
        "<a href=\"https://colab.research.google.com/github/jguadarr974/assignments/blob/main/Fizz_Buzz_Puzzle.ipynb\" target=\"_parent\"><img src=\"https://colab.research.google.com/assets/colab-badge.svg\" alt=\"Open In Colab\"/></a>"
      ]
    },
    {
      "cell_type": "markdown",
      "source": [
        "##Create a function that takes a number as a parameter. This function will print out (console.log()) every number from 1 to the number passed as the parameter, now:\n",
        "- if the number is divisible by 3 then the function will print out the word 'Fizz' instead of the number.\n",
        "- if the number is divisible by 3 and 5 then the function will print out the word 'Fizz Buzz' instead of the number."
      ],
      "metadata": {
        "id": "s9zZ9gYKo7pH"
      }
    },
    {
      "cell_type": "code",
      "source": [
        "##i need a function called console.log ()\n",
        "## i need the user to input a number first \n",
        "## it will take only one number as a parameter\n",
        "## that parameter will be counted starting from 1 until it gets to number of that parameter \n",
        "##At the same time, it's comparing it every number as it goes \n",
        "## divisible by 3, print Fizz\n",
        "##divisible by 5, print Buz \n",
        "## divisible by 3 AND 5 print Fizz Buzz"
      ],
      "metadata": {
        "id": "MmxCNqtLBie-"
      },
      "execution_count": null,
      "outputs": []
    },
    {
      "cell_type": "code",
      "source": [
        "##created function \n",
        "def console_log(y):\n",
        "\n",
        "  #initialized z to 1 since 0 is not acceptable\n",
        "  z=1;\n",
        "\n",
        "#created a while loop so that it can go through every number \n",
        "  while (z<=y):\n",
        "\n",
        "    ##each if is able to analyze the divisibility \n",
        "    if (z%3) == 0:\n",
        "      print(\"Fizz\");\n",
        "      z=z+1;\n",
        "\n",
        "    elif (z%5) == 0:\n",
        "      print(\"Buzz\");\n",
        "      z=z+1;\n",
        "\n",
        "    elif (z%3 == 0) & (z%5 == 0):\n",
        "      print(\"FIZZ BUZZ\")\n",
        "      z=z+1;\n",
        "\n",
        "#If no number is divisible by 5 and/or 3 then\n",
        "    else:\n",
        "      #it will just print out the number only \n",
        "      print(z);\n",
        "      z=z+1;\n",
        "\n",
        "#I entered an output\n",
        "print(\"Enter a number \")\n",
        "\n",
        "#I will collect that number \n",
        "x=input();\n",
        "\n",
        "#convert that into int \n",
        "y=int(x);\n",
        "\n",
        "#initiate the function\n",
        "console_log(y);"
      ],
      "metadata": {
        "colab": {
          "base_uri": "https://localhost:8080/"
        },
        "id": "g7G8qGySLEh6",
        "outputId": "cbd9dcf0-d84a-45f5-a792-8a122f742b67"
      },
      "execution_count": 27,
      "outputs": [
        {
          "output_type": "stream",
          "name": "stdout",
          "text": [
            "Enter a number \n",
            "30\n",
            "1\n",
            "2\n",
            "Fizz\n",
            "4\n",
            "Buzz\n",
            "Fizz\n",
            "7\n",
            "8\n",
            "Fizz\n",
            "Buzz\n",
            "11\n",
            "Fizz\n",
            "13\n",
            "14\n",
            "Fizz\n",
            "16\n",
            "17\n",
            "Fizz\n",
            "19\n",
            "Buzz\n",
            "Fizz\n",
            "22\n",
            "23\n",
            "Fizz\n",
            "Buzz\n",
            "26\n",
            "Fizz\n",
            "28\n",
            "29\n",
            "Fizz\n"
          ]
        }
      ]
    },
    {
      "cell_type": "code",
      "source": [
        ""
      ],
      "metadata": {
        "id": "svYrvmgcLEay"
      },
      "execution_count": null,
      "outputs": []
    },
    {
      "cell_type": "code",
      "source": [
        ""
      ],
      "metadata": {
        "id": "mObntLiSLEOq"
      },
      "execution_count": null,
      "outputs": []
    }
  ]
}