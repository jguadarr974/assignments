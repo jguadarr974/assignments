{
  "nbformat": 4,
  "nbformat_minor": 0,
  "metadata": {
    "colab": {
      "name": "The Harmless Ransom Note.ipynb",
      "provenance": [],
      "collapsed_sections": [],
      "authorship_tag": "ABX9TyPR8/eMR/9nd06qZzapWNsz",
      "include_colab_link": true
    },
    "kernelspec": {
      "name": "python3",
      "display_name": "Python 3"
    },
    "language_info": {
      "name": "python"
    }
  },
  "cells": [
    {
      "cell_type": "markdown",
      "metadata": {
        "id": "view-in-github",
        "colab_type": "text"
      },
      "source": [
        "<a href=\"https://colab.research.google.com/github/jguadarr974/assignments/blob/main/The_Harmless_Ransom_Note.ipynb\" target=\"_parent\"><img src=\"https://colab.research.google.com/assets/colab-badge.svg\" alt=\"Open In Colab\"/></a>"
      ]
    },
    {
      "cell_type": "markdown",
      "source": [
        "##Given two stings ransomNote and magazine, return true if ransomNote can be constructed from magazine and false otherwise.\n",
        "##Each letter in magazine can only be used once in ransomNote."
      ],
      "metadata": {
        "id": "ASMph3_cnVGn"
      }
    },
    {
      "cell_type": "code",
      "execution_count": 1,
      "metadata": {
        "id": "vNhITUAhlAlP"
      },
      "outputs": [],
      "source": [
        "#Two strings are given, meaning there is no input here\n",
        "#one string is named ransomNote and the other is magazine\n",
        "#we need to check if ransomNote matches with most of the letters in magazine,\n",
        "#since magazine can have more letters than ransomNote, but what matters is that \n",
        "#RansomNote have most of the matching letters in magazine\n",
        "#We will have another string to keep track of the matching letters, that way, we\n",
        "#can see which is being repeated and this whole thing will be false"
      ]
    },
    {
      "cell_type": "code",
      "source": [
        "#given strings \n",
        "ransomNote='abc'\n",
        "magazine='bca'\n",
        "\n",
        "#this should turn out to be true since ransomNote matches ALL letters in magazine \n",
        "\n",
        "#another string to save the letters\n",
        "save_let='';"
      ],
      "metadata": {
        "id": "Rhlk45M8mjlN"
      },
      "execution_count": 5,
      "outputs": []
    },
    {
      "cell_type": "code",
      "source": [
        "#have a variable equal to 0 to start at index 0 in ransomNote\n",
        "num=0;\n",
        "\n",
        "#have another variable equal to 0 to star at index 0 in magazine\n",
        "num_1=0;"
      ],
      "metadata": {
        "id": "MvpoA2Wumjcw"
      },
      "execution_count": 6,
      "outputs": []
    },
    {
      "cell_type": "code",
      "source": [
        "#then we go for a for loop in ransomNote, for num =0, while num < ransomNote - 1 \n",
        "for num in ransomNote:\n",
        "#use an if loop to compare the indexes\n",
        "if num in magazine:\n",
        "#if ransomNote at index 0 equals to magazine at index 0, then it will add \n",
        "#ransomNote at that index to save_let\n",
        "#have num = num + 1 to continue\n",
        "#if they don't match, have num_1 = num_1 + 1, to go to the next index and check \n",
        "#if it is the right one then it will continue to add to the save_let \n",
        "#if nothing else works\n",
        "else print(\"False\")\n",
        "break \n",
        "\n"
      ],
      "metadata": {
        "id": "krU9dQrvmjUW"
      },
      "execution_count": null,
      "outputs": []
    },
    {
      "cell_type": "code",
      "source": [
        ""
      ],
      "metadata": {
        "id": "_dyT_wVUmjK6"
      },
      "execution_count": null,
      "outputs": []
    }
  ]
}